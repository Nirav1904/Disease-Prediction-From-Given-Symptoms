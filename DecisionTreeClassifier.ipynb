{
 "cells": [
  {
   "cell_type": "code",
   "execution_count": 1,
   "id": "4eceb2c3-23f1-4761-b663-200d151445e3",
   "metadata": {},
   "outputs": [],
   "source": [
    "import pandas as pd"
   ]
  },
  {
   "cell_type": "code",
   "execution_count": 2,
   "id": "76fcd7e0-3063-4cf5-92b5-1922bfce479e",
   "metadata": {},
   "outputs": [],
   "source": [
    "df=pd.read_csv(\"training_demo.csv\")"
   ]
  },
  {
   "cell_type": "code",
   "execution_count": 3,
   "id": "d3adc027-8110-41e6-88e3-9f5ddd5fdde3",
   "metadata": {},
   "outputs": [
    {
     "data": {
      "text/html": [
       "<div>\n",
       "<style scoped>\n",
       "    .dataframe tbody tr th:only-of-type {\n",
       "        vertical-align: middle;\n",
       "    }\n",
       "\n",
       "    .dataframe tbody tr th {\n",
       "        vertical-align: top;\n",
       "    }\n",
       "\n",
       "    .dataframe thead th {\n",
       "        text-align: right;\n",
       "    }\n",
       "</style>\n",
       "<table border=\"1\" class=\"dataframe\">\n",
       "  <thead>\n",
       "    <tr style=\"text-align: right;\">\n",
       "      <th></th>\n",
       "      <th>itching</th>\n",
       "      <th>skin_rash</th>\n",
       "      <th>nodal_skin_eruptions</th>\n",
       "      <th>continuous_sneezing</th>\n",
       "      <th>shivering</th>\n",
       "      <th>chills</th>\n",
       "      <th>joint_pain</th>\n",
       "      <th>stomach_pain</th>\n",
       "      <th>acidity</th>\n",
       "      <th>ulcers_on_tongue</th>\n",
       "      <th>...</th>\n",
       "      <th>blackheads</th>\n",
       "      <th>scurring</th>\n",
       "      <th>skin_peeling</th>\n",
       "      <th>silver_like_dusting</th>\n",
       "      <th>small_dents_in_nails</th>\n",
       "      <th>inflammatory_nails</th>\n",
       "      <th>blister</th>\n",
       "      <th>red_sore_around_nose</th>\n",
       "      <th>yellow_crust_ooze</th>\n",
       "      <th>prognosis</th>\n",
       "    </tr>\n",
       "  </thead>\n",
       "  <tbody>\n",
       "    <tr>\n",
       "      <th>0</th>\n",
       "      <td>1</td>\n",
       "      <td>1</td>\n",
       "      <td>1</td>\n",
       "      <td>0</td>\n",
       "      <td>0</td>\n",
       "      <td>0</td>\n",
       "      <td>0</td>\n",
       "      <td>0</td>\n",
       "      <td>0</td>\n",
       "      <td>0</td>\n",
       "      <td>...</td>\n",
       "      <td>0</td>\n",
       "      <td>0</td>\n",
       "      <td>0</td>\n",
       "      <td>0</td>\n",
       "      <td>0</td>\n",
       "      <td>0</td>\n",
       "      <td>0</td>\n",
       "      <td>0</td>\n",
       "      <td>0</td>\n",
       "      <td>Fungal infection</td>\n",
       "    </tr>\n",
       "    <tr>\n",
       "      <th>1</th>\n",
       "      <td>0</td>\n",
       "      <td>1</td>\n",
       "      <td>1</td>\n",
       "      <td>0</td>\n",
       "      <td>0</td>\n",
       "      <td>0</td>\n",
       "      <td>0</td>\n",
       "      <td>0</td>\n",
       "      <td>0</td>\n",
       "      <td>0</td>\n",
       "      <td>...</td>\n",
       "      <td>0</td>\n",
       "      <td>0</td>\n",
       "      <td>0</td>\n",
       "      <td>0</td>\n",
       "      <td>0</td>\n",
       "      <td>0</td>\n",
       "      <td>0</td>\n",
       "      <td>0</td>\n",
       "      <td>0</td>\n",
       "      <td>Fungal infection</td>\n",
       "    </tr>\n",
       "    <tr>\n",
       "      <th>2</th>\n",
       "      <td>1</td>\n",
       "      <td>0</td>\n",
       "      <td>1</td>\n",
       "      <td>0</td>\n",
       "      <td>0</td>\n",
       "      <td>0</td>\n",
       "      <td>0</td>\n",
       "      <td>0</td>\n",
       "      <td>0</td>\n",
       "      <td>0</td>\n",
       "      <td>...</td>\n",
       "      <td>0</td>\n",
       "      <td>0</td>\n",
       "      <td>0</td>\n",
       "      <td>0</td>\n",
       "      <td>0</td>\n",
       "      <td>0</td>\n",
       "      <td>0</td>\n",
       "      <td>0</td>\n",
       "      <td>0</td>\n",
       "      <td>Fungal infection</td>\n",
       "    </tr>\n",
       "    <tr>\n",
       "      <th>3</th>\n",
       "      <td>1</td>\n",
       "      <td>1</td>\n",
       "      <td>0</td>\n",
       "      <td>0</td>\n",
       "      <td>0</td>\n",
       "      <td>0</td>\n",
       "      <td>0</td>\n",
       "      <td>0</td>\n",
       "      <td>0</td>\n",
       "      <td>0</td>\n",
       "      <td>...</td>\n",
       "      <td>0</td>\n",
       "      <td>0</td>\n",
       "      <td>0</td>\n",
       "      <td>0</td>\n",
       "      <td>0</td>\n",
       "      <td>0</td>\n",
       "      <td>0</td>\n",
       "      <td>0</td>\n",
       "      <td>0</td>\n",
       "      <td>Fungal infection</td>\n",
       "    </tr>\n",
       "    <tr>\n",
       "      <th>4</th>\n",
       "      <td>1</td>\n",
       "      <td>1</td>\n",
       "      <td>1</td>\n",
       "      <td>0</td>\n",
       "      <td>0</td>\n",
       "      <td>0</td>\n",
       "      <td>0</td>\n",
       "      <td>0</td>\n",
       "      <td>0</td>\n",
       "      <td>0</td>\n",
       "      <td>...</td>\n",
       "      <td>0</td>\n",
       "      <td>0</td>\n",
       "      <td>0</td>\n",
       "      <td>0</td>\n",
       "      <td>0</td>\n",
       "      <td>0</td>\n",
       "      <td>0</td>\n",
       "      <td>0</td>\n",
       "      <td>0</td>\n",
       "      <td>Fungal infection</td>\n",
       "    </tr>\n",
       "    <tr>\n",
       "      <th>...</th>\n",
       "      <td>...</td>\n",
       "      <td>...</td>\n",
       "      <td>...</td>\n",
       "      <td>...</td>\n",
       "      <td>...</td>\n",
       "      <td>...</td>\n",
       "      <td>...</td>\n",
       "      <td>...</td>\n",
       "      <td>...</td>\n",
       "      <td>...</td>\n",
       "      <td>...</td>\n",
       "      <td>...</td>\n",
       "      <td>...</td>\n",
       "      <td>...</td>\n",
       "      <td>...</td>\n",
       "      <td>...</td>\n",
       "      <td>...</td>\n",
       "      <td>...</td>\n",
       "      <td>...</td>\n",
       "      <td>...</td>\n",
       "      <td>...</td>\n",
       "    </tr>\n",
       "    <tr>\n",
       "      <th>4915</th>\n",
       "      <td>0</td>\n",
       "      <td>0</td>\n",
       "      <td>0</td>\n",
       "      <td>0</td>\n",
       "      <td>0</td>\n",
       "      <td>0</td>\n",
       "      <td>0</td>\n",
       "      <td>0</td>\n",
       "      <td>0</td>\n",
       "      <td>0</td>\n",
       "      <td>...</td>\n",
       "      <td>0</td>\n",
       "      <td>0</td>\n",
       "      <td>0</td>\n",
       "      <td>0</td>\n",
       "      <td>0</td>\n",
       "      <td>0</td>\n",
       "      <td>0</td>\n",
       "      <td>0</td>\n",
       "      <td>0</td>\n",
       "      <td>(vertigo) Paroymsal  Positional Vertigo</td>\n",
       "    </tr>\n",
       "    <tr>\n",
       "      <th>4916</th>\n",
       "      <td>0</td>\n",
       "      <td>1</td>\n",
       "      <td>0</td>\n",
       "      <td>0</td>\n",
       "      <td>0</td>\n",
       "      <td>0</td>\n",
       "      <td>0</td>\n",
       "      <td>0</td>\n",
       "      <td>0</td>\n",
       "      <td>0</td>\n",
       "      <td>...</td>\n",
       "      <td>1</td>\n",
       "      <td>1</td>\n",
       "      <td>0</td>\n",
       "      <td>0</td>\n",
       "      <td>0</td>\n",
       "      <td>0</td>\n",
       "      <td>0</td>\n",
       "      <td>0</td>\n",
       "      <td>0</td>\n",
       "      <td>Acne</td>\n",
       "    </tr>\n",
       "    <tr>\n",
       "      <th>4917</th>\n",
       "      <td>0</td>\n",
       "      <td>0</td>\n",
       "      <td>0</td>\n",
       "      <td>0</td>\n",
       "      <td>0</td>\n",
       "      <td>0</td>\n",
       "      <td>0</td>\n",
       "      <td>0</td>\n",
       "      <td>0</td>\n",
       "      <td>0</td>\n",
       "      <td>...</td>\n",
       "      <td>0</td>\n",
       "      <td>0</td>\n",
       "      <td>0</td>\n",
       "      <td>0</td>\n",
       "      <td>0</td>\n",
       "      <td>0</td>\n",
       "      <td>0</td>\n",
       "      <td>0</td>\n",
       "      <td>0</td>\n",
       "      <td>Urinary tract infection</td>\n",
       "    </tr>\n",
       "    <tr>\n",
       "      <th>4918</th>\n",
       "      <td>0</td>\n",
       "      <td>1</td>\n",
       "      <td>0</td>\n",
       "      <td>0</td>\n",
       "      <td>0</td>\n",
       "      <td>0</td>\n",
       "      <td>1</td>\n",
       "      <td>0</td>\n",
       "      <td>0</td>\n",
       "      <td>0</td>\n",
       "      <td>...</td>\n",
       "      <td>0</td>\n",
       "      <td>0</td>\n",
       "      <td>1</td>\n",
       "      <td>1</td>\n",
       "      <td>1</td>\n",
       "      <td>1</td>\n",
       "      <td>0</td>\n",
       "      <td>0</td>\n",
       "      <td>0</td>\n",
       "      <td>Psoriasis</td>\n",
       "    </tr>\n",
       "    <tr>\n",
       "      <th>4919</th>\n",
       "      <td>0</td>\n",
       "      <td>1</td>\n",
       "      <td>0</td>\n",
       "      <td>0</td>\n",
       "      <td>0</td>\n",
       "      <td>0</td>\n",
       "      <td>0</td>\n",
       "      <td>0</td>\n",
       "      <td>0</td>\n",
       "      <td>0</td>\n",
       "      <td>...</td>\n",
       "      <td>0</td>\n",
       "      <td>0</td>\n",
       "      <td>0</td>\n",
       "      <td>0</td>\n",
       "      <td>0</td>\n",
       "      <td>0</td>\n",
       "      <td>1</td>\n",
       "      <td>1</td>\n",
       "      <td>1</td>\n",
       "      <td>Impetigo</td>\n",
       "    </tr>\n",
       "  </tbody>\n",
       "</table>\n",
       "<p>4920 rows × 133 columns</p>\n",
       "</div>"
      ],
      "text/plain": [
       "      itching  skin_rash  nodal_skin_eruptions  continuous_sneezing  \\\n",
       "0           1          1                     1                    0   \n",
       "1           0          1                     1                    0   \n",
       "2           1          0                     1                    0   \n",
       "3           1          1                     0                    0   \n",
       "4           1          1                     1                    0   \n",
       "...       ...        ...                   ...                  ...   \n",
       "4915        0          0                     0                    0   \n",
       "4916        0          1                     0                    0   \n",
       "4917        0          0                     0                    0   \n",
       "4918        0          1                     0                    0   \n",
       "4919        0          1                     0                    0   \n",
       "\n",
       "      shivering  chills  joint_pain  stomach_pain  acidity  ulcers_on_tongue  \\\n",
       "0             0       0           0             0        0                 0   \n",
       "1             0       0           0             0        0                 0   \n",
       "2             0       0           0             0        0                 0   \n",
       "3             0       0           0             0        0                 0   \n",
       "4             0       0           0             0        0                 0   \n",
       "...         ...     ...         ...           ...      ...               ...   \n",
       "4915          0       0           0             0        0                 0   \n",
       "4916          0       0           0             0        0                 0   \n",
       "4917          0       0           0             0        0                 0   \n",
       "4918          0       0           1             0        0                 0   \n",
       "4919          0       0           0             0        0                 0   \n",
       "\n",
       "      ...  blackheads  scurring  skin_peeling  silver_like_dusting  \\\n",
       "0     ...           0         0             0                    0   \n",
       "1     ...           0         0             0                    0   \n",
       "2     ...           0         0             0                    0   \n",
       "3     ...           0         0             0                    0   \n",
       "4     ...           0         0             0                    0   \n",
       "...   ...         ...       ...           ...                  ...   \n",
       "4915  ...           0         0             0                    0   \n",
       "4916  ...           1         1             0                    0   \n",
       "4917  ...           0         0             0                    0   \n",
       "4918  ...           0         0             1                    1   \n",
       "4919  ...           0         0             0                    0   \n",
       "\n",
       "      small_dents_in_nails  inflammatory_nails  blister  red_sore_around_nose  \\\n",
       "0                        0                   0        0                     0   \n",
       "1                        0                   0        0                     0   \n",
       "2                        0                   0        0                     0   \n",
       "3                        0                   0        0                     0   \n",
       "4                        0                   0        0                     0   \n",
       "...                    ...                 ...      ...                   ...   \n",
       "4915                     0                   0        0                     0   \n",
       "4916                     0                   0        0                     0   \n",
       "4917                     0                   0        0                     0   \n",
       "4918                     1                   1        0                     0   \n",
       "4919                     0                   0        1                     1   \n",
       "\n",
       "      yellow_crust_ooze                                prognosis  \n",
       "0                     0                         Fungal infection  \n",
       "1                     0                         Fungal infection  \n",
       "2                     0                         Fungal infection  \n",
       "3                     0                         Fungal infection  \n",
       "4                     0                         Fungal infection  \n",
       "...                 ...                                      ...  \n",
       "4915                  0  (vertigo) Paroymsal  Positional Vertigo  \n",
       "4916                  0                                     Acne  \n",
       "4917                  0                  Urinary tract infection  \n",
       "4918                  0                                Psoriasis  \n",
       "4919                  1                                 Impetigo  \n",
       "\n",
       "[4920 rows x 133 columns]"
      ]
     },
     "execution_count": 3,
     "metadata": {},
     "output_type": "execute_result"
    }
   ],
   "source": [
    "new_df=df.copy()\n",
    "new_df"
   ]
  },
  {
   "cell_type": "code",
   "execution_count": 4,
   "id": "cb827f3d-5c45-4f3c-b847-f1e3386aee91",
   "metadata": {
    "tags": []
   },
   "outputs": [
    {
     "data": {
      "text/plain": [
       "(4920, 133)"
      ]
     },
     "execution_count": 4,
     "metadata": {},
     "output_type": "execute_result"
    }
   ],
   "source": [
    "df.shape"
   ]
  },
  {
   "cell_type": "code",
   "execution_count": 5,
   "id": "49d13ba2-f639-43e0-a87e-7977b2005135",
   "metadata": {},
   "outputs": [
    {
     "data": {
      "text/plain": [
       "(4616, 133)"
      ]
     },
     "execution_count": 5,
     "metadata": {},
     "output_type": "execute_result"
    }
   ],
   "source": [
    "# Total Duplicated Values\n",
    "df.loc[df.duplicated()].shape"
   ]
  },
  {
   "cell_type": "code",
   "execution_count": 6,
   "id": "f8edcb92-0205-4334-ba48-9e8dff5feb29",
   "metadata": {},
   "outputs": [],
   "source": [
    "df.drop_duplicates(inplace=True)"
   ]
  },
  {
   "cell_type": "code",
   "execution_count": 7,
   "id": "0ab65339-373a-4fe2-82c7-853b897788ac",
   "metadata": {},
   "outputs": [
    {
     "data": {
      "text/plain": [
       "(304, 133)"
      ]
     },
     "execution_count": 7,
     "metadata": {},
     "output_type": "execute_result"
    }
   ],
   "source": [
    "df.shape"
   ]
  },
  {
   "cell_type": "code",
   "execution_count": 8,
   "id": "241a4ec3-b457-43c3-a8c8-deb1344ffaf2",
   "metadata": {},
   "outputs": [],
   "source": [
    "from sklearn.model_selection import train_test_split"
   ]
  },
  {
   "cell_type": "code",
   "execution_count": 9,
   "id": "e1d07c3a-f788-4a63-8fd0-39bef2458a2a",
   "metadata": {},
   "outputs": [
    {
     "data": {
      "text/plain": [
       "(304, 132)"
      ]
     },
     "execution_count": 9,
     "metadata": {},
     "output_type": "execute_result"
    }
   ],
   "source": [
    "X=df.drop(['prognosis'],axis=1)\n",
    "X.shape"
   ]
  },
  {
   "cell_type": "code",
   "execution_count": 10,
   "id": "56d8cc09-4408-4d9b-8fd4-387adc409e4f",
   "metadata": {},
   "outputs": [
    {
     "data": {
      "text/plain": [
       "(304,)"
      ]
     },
     "execution_count": 10,
     "metadata": {},
     "output_type": "execute_result"
    }
   ],
   "source": [
    "Y=df.iloc[:,-1]\n",
    "Y.shape"
   ]
  },
  {
   "cell_type": "code",
   "execution_count": 11,
   "id": "99107383-8629-49c4-82b0-6fab8576f973",
   "metadata": {},
   "outputs": [],
   "source": [
    "X_train,X_test,y_train,y_test=train_test_split(X,Y,test_size=0.3,random_state=41)"
   ]
  },
  {
   "cell_type": "code",
   "execution_count": 12,
   "id": "5ab11914-7242-4801-87af-8a835bbb904e",
   "metadata": {},
   "outputs": [
    {
     "data": {
      "text/plain": [
       "(424, 133)"
      ]
     },
     "execution_count": 12,
     "metadata": {},
     "output_type": "execute_result"
    }
   ],
   "source": [
    "training_data=pd.concat([X_train,y_train])\n",
    "training_data.shape"
   ]
  },
  {
   "cell_type": "code",
   "execution_count": 13,
   "id": "52dadc6f-5341-45c1-bc9a-454891f22958",
   "metadata": {},
   "outputs": [],
   "source": [
    "training_data.to_csv(\"training.csv\",index_label=False)"
   ]
  },
  {
   "cell_type": "code",
   "execution_count": 14,
   "id": "30018cfb-800d-416d-8423-8ed611d8cdef",
   "metadata": {},
   "outputs": [
    {
     "data": {
      "text/plain": [
       "(184, 133)"
      ]
     },
     "execution_count": 14,
     "metadata": {},
     "output_type": "execute_result"
    }
   ],
   "source": [
    "testing_data=pd.concat([X_test,y_test])\n",
    "testing_data.shape"
   ]
  },
  {
   "cell_type": "code",
   "execution_count": 15,
   "id": "836e2fb9-1474-43a5-aa1a-64a8421ea6bf",
   "metadata": {},
   "outputs": [],
   "source": [
    "testing_data.to_csv(\"testing.csv\",index_label=False)"
   ]
  },
  {
   "cell_type": "code",
   "execution_count": 16,
   "id": "21b1de1d-a7a6-4eff-85d1-9b7143ec82c6",
   "metadata": {},
   "outputs": [
    {
     "data": {
      "text/plain": [
       "(212, 132)"
      ]
     },
     "execution_count": 16,
     "metadata": {},
     "output_type": "execute_result"
    }
   ],
   "source": [
    "X_train.shape"
   ]
  },
  {
   "cell_type": "code",
   "execution_count": 17,
   "id": "e830b6f2-0252-4bbe-b0ea-5c8cd9025ba5",
   "metadata": {},
   "outputs": [
    {
     "data": {
      "text/plain": [
       "(92, 132)"
      ]
     },
     "execution_count": 17,
     "metadata": {},
     "output_type": "execute_result"
    }
   ],
   "source": [
    "X_test.shape"
   ]
  },
  {
   "cell_type": "code",
   "execution_count": 18,
   "id": "3aa6ba46-1f7b-44c9-8e73-0d38007b8a1c",
   "metadata": {},
   "outputs": [],
   "source": [
    "from sklearn.tree import DecisionTreeClassifier"
   ]
  },
  {
   "cell_type": "code",
   "execution_count": 19,
   "id": "7022c74d-501b-4127-8ed4-2c85f337d3cb",
   "metadata": {},
   "outputs": [],
   "source": [
    "dt_clf=DecisionTreeClassifier(max_features='log2',random_state=36)"
   ]
  },
  {
   "cell_type": "code",
   "execution_count": 20,
   "id": "67c9168e-c330-448e-ae1f-5385df37517e",
   "metadata": {},
   "outputs": [
    {
     "data": {
      "text/plain": [
       "DecisionTreeClassifier(max_features='log2', random_state=36)"
      ]
     },
     "execution_count": 20,
     "metadata": {},
     "output_type": "execute_result"
    }
   ],
   "source": [
    "dt_clf.fit(X_train,y_train)"
   ]
  },
  {
   "cell_type": "code",
   "execution_count": 21,
   "id": "85438a6e-2e2e-4b6d-bcc6-6530e1b21250",
   "metadata": {},
   "outputs": [],
   "source": [
    "# Train Data Prediction\n",
    "pred=dt_clf.predict(X_train)"
   ]
  },
  {
   "cell_type": "code",
   "execution_count": 22,
   "id": "31648bc4-0fa8-4d91-aa2d-34b3ed965e75",
   "metadata": {},
   "outputs": [
    {
     "data": {
      "text/plain": [
       "array(['Hepatitis B', 'Chicken pox', 'Paralysis (brain hemorrhage)',\n",
       "       'Typhoid', 'Hepatitis E', 'Hepatitis D', 'Typhoid', 'Typhoid',\n",
       "       'Varicose veins', 'Hypothyroidism', 'Common Cold', 'Acne',\n",
       "       'Diabetes ', 'Hypothyroidism', 'Gastroenteritis', 'Chicken pox',\n",
       "       'Hepatitis C', 'Gastroenteritis',\n",
       "       '(vertigo) Paroymsal  Positional Vertigo', 'Varicose veins',\n",
       "       'Bronchial Asthma', 'Osteoarthristis', 'AIDS', 'Osteoarthristis',\n",
       "       'Impetigo', 'Malaria', 'Pneumonia', 'Dengue', 'Arthritis',\n",
       "       'Migraine', 'Cervical spondylosis', 'Hyperthyroidism',\n",
       "       'Common Cold', 'Alcoholic hepatitis', 'Chicken pox',\n",
       "       'Alcoholic hepatitis', 'Chicken pox', 'GERD', 'Psoriasis',\n",
       "       'Hypertension ', '(vertigo) Paroymsal  Positional Vertigo',\n",
       "       'Pneumonia', 'Gastroenteritis', 'Hyperthyroidism',\n",
       "       'Bronchial Asthma', 'Fungal infection', 'Hepatitis B', 'Malaria',\n",
       "       'AIDS', 'Tuberculosis', 'Migraine', 'Peptic ulcer diseae',\n",
       "       'Hepatitis D', 'Hypertension ', 'Chronic cholestasis',\n",
       "       'Hypothyroidism', 'Osteoarthristis', 'Hepatitis C',\n",
       "       'Bronchial Asthma', 'Pneumonia', 'Diabetes ', 'Allergy',\n",
       "       'Psoriasis', 'Hypertension ', 'Hypothyroidism', 'Arthritis',\n",
       "       'Cervical spondylosis', 'Alcoholic hepatitis', 'Fungal infection',\n",
       "       'AIDS', 'Hepatitis C', 'Typhoid', 'Hypoglycemia',\n",
       "       'Paralysis (brain hemorrhage)', 'Hepatitis C',\n",
       "       '(vertigo) Paroymsal  Positional Vertigo',\n",
       "       'Urinary tract infection', 'Dimorphic hemmorhoids(piles)',\n",
       "       'Hepatitis B', 'Hyperthyroidism', 'Typhoid', 'Hepatitis D',\n",
       "       'Hypoglycemia', 'Tuberculosis', 'Arthritis', 'Peptic ulcer diseae',\n",
       "       'Hypothyroidism', 'Chronic cholestasis', 'Dengue', 'Allergy',\n",
       "       'Diabetes ', 'Hypertension ', 'Chronic cholestasis',\n",
       "       'Hypertension ', 'Migraine', 'Drug Reaction',\n",
       "       'Peptic ulcer diseae', 'Impetigo', 'Urinary tract infection',\n",
       "       'Jaundice', 'Impetigo', 'Varicose veins', 'Psoriasis', 'Migraine',\n",
       "       'Hypoglycemia', 'Heart attack', 'hepatitis A',\n",
       "       'Alcoholic hepatitis', 'GERD', 'Dengue', 'Hepatitis B', 'Allergy',\n",
       "       'Dimorphic hemmorhoids(piles)', 'Chicken pox',\n",
       "       '(vertigo) Paroymsal  Positional Vertigo', 'Chicken pox',\n",
       "       'Cervical spondylosis', 'Jaundice', 'Malaria', 'Fungal infection',\n",
       "       'Impetigo', 'Bronchial Asthma', 'Pneumonia',\n",
       "       'Dimorphic hemmorhoids(piles)', 'Chronic cholestasis',\n",
       "       'Peptic ulcer diseae', 'Pneumonia', 'Dimorphic hemmorhoids(piles)',\n",
       "       'Common Cold', '(vertigo) Paroymsal  Positional Vertigo',\n",
       "       'Jaundice', 'Malaria', 'Urinary tract infection', 'Hypoglycemia',\n",
       "       'Diabetes ', 'Cervical spondylosis', 'Hepatitis D', 'Migraine',\n",
       "       'hepatitis A', 'Hepatitis D', 'Dengue', 'Hypertension ',\n",
       "       'Heart attack', 'Hepatitis E', 'Hyperthyroidism', 'Diabetes ',\n",
       "       'Hepatitis C', 'Dimorphic hemmorhoids(piles)', 'Arthritis',\n",
       "       'Typhoid', 'Arthritis', 'hepatitis A', 'Hepatitis E',\n",
       "       'Hepatitis B', 'Hepatitis D', 'Jaundice', 'Jaundice',\n",
       "       'Peptic ulcer diseae', 'Fungal infection', 'Psoriasis', 'GERD',\n",
       "       'GERD', 'Chronic cholestasis', 'Common Cold', 'Migraine',\n",
       "       'Common Cold', 'Migraine', 'Pneumonia',\n",
       "       '(vertigo) Paroymsal  Positional Vertigo', 'Malaria', 'Migraine',\n",
       "       'Urinary tract infection', 'Acne', 'Peptic ulcer diseae',\n",
       "       'Jaundice', 'Hypothyroidism', 'Chicken pox', 'Hepatitis E',\n",
       "       'Dengue', 'Allergy', 'Hepatitis B', 'Typhoid', 'Psoriasis',\n",
       "       'Chicken pox', 'GERD', 'Migraine', 'Typhoid', 'Hypoglycemia',\n",
       "       'Hepatitis D', 'Tuberculosis', 'hepatitis A',\n",
       "       'Chronic cholestasis', 'Acne', 'Heart attack', 'Dengue',\n",
       "       'Hyperthyroidism', 'hepatitis A', 'Hepatitis E', 'Jaundice',\n",
       "       'Common Cold', 'Hepatitis E', 'Malaria', 'Cervical spondylosis',\n",
       "       'Common Cold', 'Hepatitis E', 'Hepatitis D', 'Typhoid',\n",
       "       'Hypothyroidism', 'Acne', 'Paralysis (brain hemorrhage)',\n",
       "       'Hyperthyroidism', 'Cervical spondylosis'], dtype=object)"
      ]
     },
     "execution_count": 22,
     "metadata": {},
     "output_type": "execute_result"
    }
   ],
   "source": [
    "pred"
   ]
  },
  {
   "cell_type": "code",
   "execution_count": 23,
   "id": "8c36551e-f1f2-4c5f-ab2f-d73e1b5876a6",
   "metadata": {},
   "outputs": [],
   "source": [
    "# Test Data Prediction\n",
    "test_pred=dt_clf.predict(X_test)"
   ]
  },
  {
   "cell_type": "code",
   "execution_count": 24,
   "id": "fd552b26-356a-4bf1-94ba-41bedc9fa55f",
   "metadata": {},
   "outputs": [
    {
     "data": {
      "text/plain": [
       "array(['Psoriasis', 'Hyperthyroidism', 'Varicose veins', 'Hypoglycemia',\n",
       "       'Varicose veins', 'Paralysis (brain hemorrhage)',\n",
       "       'Urinary tract infection', 'GERD', 'Dimorphic hemmorhoids(piles)',\n",
       "       'AIDS', 'Common Cold', 'Chicken pox', 'Hepatitis B', 'Dengue',\n",
       "       'Hepatitis C', 'hepatitis A', 'Hyperthyroidism', 'hepatitis A',\n",
       "       'Malaria', 'Hypoglycemia', 'Paralysis (brain hemorrhage)',\n",
       "       'Pneumonia', 'Hepatitis B', 'Hepatitis C', 'Fungal infection',\n",
       "       'Drug Reaction', 'Chicken pox', 'Alcoholic hepatitis', 'Diabetes ',\n",
       "       'Bronchial Asthma', 'Heart attack', 'Hepatitis B', 'Hypoglycemia',\n",
       "       'Jaundice', 'Chronic cholestasis', 'Jaundice', 'Allergy',\n",
       "       'Arthritis', 'Osteoarthristis', 'Varicose veins', 'Malaria',\n",
       "       'Bronchial Asthma', 'Hypoglycemia', 'Tuberculosis',\n",
       "       'Hypothyroidism', 'Hepatitis D', 'Alcoholic hepatitis',\n",
       "       'Tuberculosis', 'Hepatitis E', 'Chronic cholestasis', 'AIDS',\n",
       "       'Impetigo', 'Drug Reaction', 'Migraine', 'Diabetes ',\n",
       "       'Hepatitis E', 'AIDS', 'AIDS', 'Varicose veins',\n",
       "       'Alcoholic hepatitis', 'AIDS', 'Drug Reaction', 'Hyperthyroidism',\n",
       "       'Tuberculosis', 'Osteoarthristis', 'hepatitis A', 'Dengue', 'AIDS',\n",
       "       'Osteoarthristis', 'Tuberculosis', 'Gastroenteritis', 'Dengue',\n",
       "       'Gastroenteritis', 'GERD', 'Jaundice', 'Dengue', 'AIDS',\n",
       "       'Diabetes ', 'Diabetes ', 'Pneumonia', 'Tuberculosis',\n",
       "       'Common Cold', 'Drug Reaction', 'AIDS', 'Tuberculosis', 'AIDS',\n",
       "       'Pneumonia', 'Jaundice', 'Psoriasis',\n",
       "       '(vertigo) Paroymsal  Positional Vertigo', 'AIDS', 'Chicken pox'],\n",
       "      dtype=object)"
      ]
     },
     "execution_count": 24,
     "metadata": {},
     "output_type": "execute_result"
    }
   ],
   "source": [
    "test_pred"
   ]
  },
  {
   "cell_type": "code",
   "execution_count": 25,
   "id": "8b6cf188-0ae6-4453-918b-23fcbd193548",
   "metadata": {},
   "outputs": [],
   "source": [
    "from sklearn.metrics import accuracy_score,confusion_matrix"
   ]
  },
  {
   "cell_type": "code",
   "execution_count": 26,
   "id": "3de00ac5-e179-44c4-99a8-8b79e3bb38f2",
   "metadata": {},
   "outputs": [
    {
     "name": "stdout",
     "output_type": "stream",
     "text": [
      "Train Accuracy : 100.0 %\n"
     ]
    }
   ],
   "source": [
    "# Train Accuracy\n",
    "print(\"Train Accuracy :\",accuracy_score(y_train,pred)*100,\"%\")"
   ]
  },
  {
   "cell_type": "code",
   "execution_count": 27,
   "id": "841eaed6-2358-4ef7-8dff-8c245baec3e6",
   "metadata": {},
   "outputs": [
    {
     "name": "stdout",
     "output_type": "stream",
     "text": [
      "Accuracy : 85.86956521739131 %\n"
     ]
    }
   ],
   "source": [
    "# Test Accuracy\n",
    "print(\"Accuracy :\",accuracy_score(y_test,test_pred)*100,\"%\")"
   ]
  },
  {
   "cell_type": "code",
   "execution_count": 28,
   "id": "1dd107ca",
   "metadata": {},
   "outputs": [
    {
     "data": {
      "text/plain": [
       "array([[1, 0, 0, ..., 0, 0, 0],\n",
       "       [0, 2, 0, ..., 0, 0, 0],\n",
       "       [0, 1, 0, ..., 0, 0, 0],\n",
       "       ...,\n",
       "       [0, 0, 0, ..., 1, 0, 0],\n",
       "       [0, 1, 0, ..., 0, 4, 0],\n",
       "       [0, 0, 0, ..., 0, 0, 3]], dtype=int64)"
      ]
     },
     "execution_count": 28,
     "metadata": {},
     "output_type": "execute_result"
    }
   ],
   "source": [
    "cf_matrix=confusion_matrix(y_test,test_pred)\n",
    "cf_matrix"
   ]
  },
  {
   "cell_type": "code",
   "execution_count": 29,
   "id": "6d197dfd-9fb2-4470-8d84-c07b1402c473",
   "metadata": {},
   "outputs": [],
   "source": [
    "import pickle as pkl"
   ]
  },
  {
   "cell_type": "code",
   "execution_count": 30,
   "id": "3ad7ba39-2250-4c7f-a03b-ec5a9da8e377",
   "metadata": {},
   "outputs": [],
   "source": [
    "dt_pkl=open(\"decisionTree_model.pkl\",\"wb\")\n",
    "pkl.dump(dt_clf,dt_pkl)\n",
    "dt_pkl.close()"
   ]
  },
  {
   "cell_type": "code",
   "execution_count": 31,
   "id": "d8b229fa-4044-499d-87d8-ad94c3cdf7b6",
   "metadata": {},
   "outputs": [],
   "source": [
    "file=open(\"decisionTree_model.pkl\",\"rb\")"
   ]
  },
  {
   "cell_type": "code",
   "execution_count": 32,
   "id": "04f29414-e72a-4b0d-ba3e-1a74b5f3a289",
   "metadata": {},
   "outputs": [],
   "source": [
    "clf=pkl.load(file)"
   ]
  },
  {
   "cell_type": "code",
   "execution_count": 34,
   "id": "1e010af9-fddb-4790-96bd-d07b8d8e9aeb",
   "metadata": {},
   "outputs": [
    {
     "data": {
      "text/plain": [
       "1.0"
      ]
     },
     "execution_count": 34,
     "metadata": {},
     "output_type": "execute_result"
    }
   ],
   "source": [
    "accuracy_score(y_train,clf.predict(X_train))"
   ]
  },
  {
   "cell_type": "code",
   "execution_count": 36,
   "id": "5e73d853-50d5-46b8-9790-102a32dedb11",
   "metadata": {},
   "outputs": [
    {
     "data": {
      "text/plain": [
       "0.8586956521739131"
      ]
     },
     "execution_count": 36,
     "metadata": {},
     "output_type": "execute_result"
    }
   ],
   "source": [
    "accuracy_score(y_test,clf.predict(X_test))"
   ]
  }
 ],
 "metadata": {
  "kernelspec": {
   "display_name": "Python 3 (ipykernel)",
   "language": "python",
   "name": "python3"
  },
  "language_info": {
   "codemirror_mode": {
    "name": "ipython",
    "version": 3
   },
   "file_extension": ".py",
   "mimetype": "text/x-python",
   "name": "python",
   "nbconvert_exporter": "python",
   "pygments_lexer": "ipython3",
   "version": "3.11.4"
  }
 },
 "nbformat": 4,
 "nbformat_minor": 5
}
